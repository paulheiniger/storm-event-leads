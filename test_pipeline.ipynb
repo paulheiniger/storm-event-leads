{
 "cells": [
  {
   "cell_type": "code",
   "execution_count": 3,
   "id": "9023ac2c",
   "metadata": {},
   "outputs": [],
   "source": [
    "# %%\n",
    "# Notebook to test storm-event-leads modules\n",
    "import os, sys\n",
    "# Adjust path to include the repo\n",
    "sys.path.append(os.path.join(os.getcwd(), 'storm-event-leads'))"
   ]
  },
  {
   "cell_type": "code",
   "execution_count": 4,
   "id": "6d8eb84c",
   "metadata": {},
   "outputs": [
    {
     "ename": "ImportError",
     "evalue": "cannot import name 'fetch_latest_csv_url' from 'ingest.fetch_storm_events' (/Users/paulheiniger/storm-event-leads/ingest/fetch_storm_events.py)",
     "output_type": "error",
     "traceback": [
      "\u001b[31m---------------------------------------------------------------------------\u001b[39m",
      "\u001b[31mImportError\u001b[39m                               Traceback (most recent call last)",
      "\u001b[36mCell\u001b[39m\u001b[36m \u001b[39m\u001b[32mIn[4]\u001b[39m\u001b[32m, line 3\u001b[39m\n\u001b[32m      1\u001b[39m \u001b[38;5;66;03m# %%\u001b[39;00m\n\u001b[32m      2\u001b[39m \u001b[38;5;66;03m# 1. Test ingest module\u001b[39;00m\n\u001b[32m----> \u001b[39m\u001b[32m3\u001b[39m \u001b[38;5;28;01mfrom\u001b[39;00m\u001b[38;5;250m \u001b[39m\u001b[34;01mingest\u001b[39;00m\u001b[34;01m.\u001b[39;00m\u001b[34;01mfetch_storm_events\u001b[39;00m\u001b[38;5;250m \u001b[39m\u001b[38;5;28;01mimport\u001b[39;00m fetch_latest_csv_url, download_and_extract_csv, build_boundaries\n\u001b[32m      5\u001b[39m latest_csv_url = fetch_latest_csv_url()\n\u001b[32m      6\u001b[39m \u001b[38;5;28mprint\u001b[39m(\u001b[33mf\u001b[39m\u001b[33m\"\u001b[39m\u001b[33mLatest CSV URL: \u001b[39m\u001b[38;5;132;01m{\u001b[39;00mlatest_csv_url\u001b[38;5;132;01m}\u001b[39;00m\u001b[33m\"\u001b[39m)\n",
      "\u001b[31mImportError\u001b[39m: cannot import name 'fetch_latest_csv_url' from 'ingest.fetch_storm_events' (/Users/paulheiniger/storm-event-leads/ingest/fetch_storm_events.py)"
     ]
    }
   ],
   "source": [
    "# %%\n",
    "# 1. Test ingest module\n",
    "from ingest.fetch_storm_events import fetch_latest_csv_url, download_and_extract_csv, build_boundaries\n",
    "\n",
    "latest_csv_url = fetch_latest_csv_url()\n",
    "print(f\"Latest CSV URL: {latest_csv_url}\")\n",
    "\n",
    "csv_path = download_and_extract_csv(latest_csv_url)\n",
    "print(f\"Downloaded and extracted CSV to: {csv_path}\")\n",
    "\n",
    "gdf = build_boundaries(csv_path)\n",
    "print(f\"Built boundaries GeoDataFrame with {len(gdf)} features.\")"
   ]
  },
  {
   "cell_type": "code",
   "execution_count": null,
   "id": "01c1c905",
   "metadata": {},
   "outputs": [],
   "source": [
    "# %%\n",
    "# 2. Test database load (requires DATABASE_URL)\n",
    "from db.load_to_postgis import load_to_postgis\n",
    "print(\"DATABASE_URL:\", os.getenv('DATABASE_URL'))\n",
    "# Uncomment to run: load_to_postgis(gdf)"
   ]
  },
  {
   "cell_type": "code",
   "execution_count": null,
   "id": "82c247af",
   "metadata": {},
   "outputs": [],
   "source": [
    "# %%\n",
    "# 3. Test visualization module\n",
    "from visualization.plot_boundary import plot_event\n",
    "plot_event('storm_events.geojson', 'test_map.html')\n",
    "print(\"Map saved as test_map.html\")"
   ]
  },
  {
   "cell_type": "code",
   "execution_count": null,
   "id": "94bed04c",
   "metadata": {},
   "outputs": [],
   "source": [
    "# %%\n",
    "# 4. Test address lookup (requires populated DB)\n",
    "# from address_lookup.query_addresses import get_addresses_in_event\n",
    "# df_addresses = get_addresses_in_event()\n",
    "# print(df_addresses.head())"
   ]
  },
  {
   "cell_type": "code",
   "execution_count": null,
   "id": "04936d5d",
   "metadata": {},
   "outputs": [],
   "source": [
    "# %%\n",
    "# 5. Test property data fetch (requires PROPERTY_API_KEY & addresses)\n",
    "# from property_data.fetch_property_data import fetch_properties\n",
    "# df_properties = fetch_properties(df_addresses)\n",
    "# print(df_properties.head())"
   ]
  },
  {
   "cell_type": "code",
   "execution_count": null,
   "id": "d0350038",
   "metadata": {},
   "outputs": [],
   "source": [
    "# %%\n",
    "# 6. Test skip-trace (requires BULKDATA_API_KEY & properties)\n",
    "# from skip_trace.skip_trace import skip_trace\n",
    "# df_owners = skip_trace(df_properties)\n",
    "# print(df_owners.head())"
   ]
  }
 ],
 "metadata": {
  "kernelspec": {
   "display_name": "storm-leads",
   "language": "python",
   "name": "python3"
  },
  "language_info": {
   "codemirror_mode": {
    "name": "ipython",
    "version": 3
   },
   "file_extension": ".py",
   "mimetype": "text/x-python",
   "name": "python",
   "nbconvert_exporter": "python",
   "pygments_lexer": "ipython3",
   "version": "3.13.5"
  }
 },
 "nbformat": 4,
 "nbformat_minor": 5
}
