{
 "cells": [
  {
   "cell_type": "code",
   "execution_count": 1,
   "id": "9023ac2c",
   "metadata": {},
   "outputs": [],
   "source": [
    "# %%\n",
    "# Notebook to test storm-event-leads modules\n",
    "import os, sys\n",
    "# Adjust path to include the repo\n",
    "sys.path.append(os.path.join(os.getcwd(), 'storm-event-leads'))"
   ]
  },
  {
   "cell_type": "code",
   "execution_count": 2,
   "id": "6d8eb84c",
   "metadata": {},
   "outputs": [
    {
     "ename": "HTTPError",
     "evalue": "400 Client Error:  for url: https://www.ncei.noaa.gov/access/services/search/v1/data?dataset=storm_events&startDate=2025-07-01&endDate=2025-07-28&format=json",
     "output_type": "error",
     "traceback": [
      "\u001b[31m---------------------------------------------------------------------------\u001b[39m",
      "\u001b[31mHTTPError\u001b[39m                                 Traceback (most recent call last)",
      "\u001b[36mCell\u001b[39m\u001b[36m \u001b[39m\u001b[32mIn[2]\u001b[39m\u001b[32m, line 4\u001b[39m\n\u001b[32m      1\u001b[39m \u001b[38;5;66;03m# %%\u001b[39;00m\n\u001b[32m      2\u001b[39m \u001b[38;5;66;03m# 1. Test ingest module\u001b[39;00m\n\u001b[32m      3\u001b[39m \u001b[38;5;28;01mfrom\u001b[39;00m\u001b[38;5;250m \u001b[39m\u001b[34;01mingest\u001b[39;00m\u001b[34;01m.\u001b[39;00m\u001b[34;01mfetch_storm_events\u001b[39;00m\u001b[38;5;250m \u001b[39m\u001b[38;5;28;01mimport\u001b[39;00m fetch_events\n\u001b[32m----> \u001b[39m\u001b[32m4\u001b[39m gdf = \u001b[43mfetch_events\u001b[49m\u001b[43m(\u001b[49m\u001b[33;43m'\u001b[39;49m\u001b[33;43m2025-07-01\u001b[39;49m\u001b[33;43m'\u001b[39;49m\u001b[43m,\u001b[49m\u001b[43m \u001b[49m\u001b[33;43m'\u001b[39;49m\u001b[33;43m2025-07-28\u001b[39;49m\u001b[33;43m'\u001b[39;49m\u001b[43m)\u001b[49m\n\u001b[32m      5\u001b[39m \u001b[38;5;28mprint\u001b[39m(gdf.head())\n",
      "\u001b[36mFile \u001b[39m\u001b[32m~/storm-event-leads/ingest/fetch_storm_events.py:18\u001b[39m, in \u001b[36mfetch_events\u001b[39m\u001b[34m(start_date, end_date)\u001b[39m\n\u001b[32m     11\u001b[39m params = {\n\u001b[32m     12\u001b[39m     \u001b[33m'\u001b[39m\u001b[33mdataset\u001b[39m\u001b[33m'\u001b[39m: \u001b[33m'\u001b[39m\u001b[33mstorm_events\u001b[39m\u001b[33m'\u001b[39m,\n\u001b[32m     13\u001b[39m     \u001b[33m'\u001b[39m\u001b[33mstartDate\u001b[39m\u001b[33m'\u001b[39m: start_date,\n\u001b[32m     14\u001b[39m     \u001b[33m'\u001b[39m\u001b[33mendDate\u001b[39m\u001b[33m'\u001b[39m: end_date,\n\u001b[32m     15\u001b[39m     \u001b[33m'\u001b[39m\u001b[33mformat\u001b[39m\u001b[33m'\u001b[39m: \u001b[33m'\u001b[39m\u001b[33mjson\u001b[39m\u001b[33m'\u001b[39m\n\u001b[32m     16\u001b[39m }\n\u001b[32m     17\u001b[39m resp = requests.get(NOAA_API_URL, params=params)\n\u001b[32m---> \u001b[39m\u001b[32m18\u001b[39m \u001b[43mresp\u001b[49m\u001b[43m.\u001b[49m\u001b[43mraise_for_status\u001b[49m\u001b[43m(\u001b[49m\u001b[43m)\u001b[49m\n\u001b[32m     19\u001b[39m features = resp.json().get(\u001b[33m'\u001b[39m\u001b[33mfeatures\u001b[39m\u001b[33m'\u001b[39m, [])\n\u001b[32m     20\u001b[39m gdf = gpd.GeoDataFrame.from_features(features)\n",
      "\u001b[36mFile \u001b[39m\u001b[32m/opt/homebrew/Caskroom/miniconda/base/envs/storm-leads/lib/python3.13/site-packages/requests/models.py:1026\u001b[39m, in \u001b[36mResponse.raise_for_status\u001b[39m\u001b[34m(self)\u001b[39m\n\u001b[32m   1021\u001b[39m     http_error_msg = (\n\u001b[32m   1022\u001b[39m         \u001b[33mf\u001b[39m\u001b[33m\"\u001b[39m\u001b[38;5;132;01m{\u001b[39;00m\u001b[38;5;28mself\u001b[39m.status_code\u001b[38;5;132;01m}\u001b[39;00m\u001b[33m Server Error: \u001b[39m\u001b[38;5;132;01m{\u001b[39;00mreason\u001b[38;5;132;01m}\u001b[39;00m\u001b[33m for url: \u001b[39m\u001b[38;5;132;01m{\u001b[39;00m\u001b[38;5;28mself\u001b[39m.url\u001b[38;5;132;01m}\u001b[39;00m\u001b[33m\"\u001b[39m\n\u001b[32m   1023\u001b[39m     )\n\u001b[32m   1025\u001b[39m \u001b[38;5;28;01mif\u001b[39;00m http_error_msg:\n\u001b[32m-> \u001b[39m\u001b[32m1026\u001b[39m     \u001b[38;5;28;01mraise\u001b[39;00m HTTPError(http_error_msg, response=\u001b[38;5;28mself\u001b[39m)\n",
      "\u001b[31mHTTPError\u001b[39m: 400 Client Error:  for url: https://www.ncei.noaa.gov/access/services/search/v1/data?dataset=storm_events&startDate=2025-07-01&endDate=2025-07-28&format=json"
     ]
    }
   ],
   "source": [
    "# %%\n",
    "# 1. Test ingest module\n",
    "from ingest.fetch_storm_events import fetch_events\n",
    "gdf = fetch_events('2025-07-01', '2025-07-28')\n",
    "print(gdf.head())"
   ]
  },
  {
   "cell_type": "code",
   "execution_count": null,
   "id": "01c1c905",
   "metadata": {},
   "outputs": [],
   "source": [
    "# %%\n",
    "# 2. Test database load (requires DATABASE_URL)\n",
    "from db.load_to_postgis import load_to_postgis\n",
    "print(\"DATABASE_URL:\", os.getenv('DATABASE_URL'))\n",
    "# Uncomment to run: load_to_postgis(gdf)"
   ]
  },
  {
   "cell_type": "code",
   "execution_count": null,
   "id": "82c247af",
   "metadata": {},
   "outputs": [],
   "source": [
    "# %%\n",
    "# 3. Test visualization module\n",
    "from visualization.plot_boundary import plot_event\n",
    "plot_event('storm_events.geojson', 'test_map.html')\n",
    "print(\"Map saved as test_map.html\")"
   ]
  },
  {
   "cell_type": "code",
   "execution_count": null,
   "id": "94bed04c",
   "metadata": {},
   "outputs": [],
   "source": [
    "# %%\n",
    "# 4. Test address lookup (requires populated DB)\n",
    "# from address_lookup.query_addresses import get_addresses_in_event\n",
    "# df_addresses = get_addresses_in_event()\n",
    "# print(df_addresses.head())"
   ]
  },
  {
   "cell_type": "code",
   "execution_count": null,
   "id": "04936d5d",
   "metadata": {},
   "outputs": [],
   "source": [
    "# %%\n",
    "# 5. Test property data fetch (requires PROPERTY_API_KEY & addresses)\n",
    "# from property_data.fetch_property_data import fetch_properties\n",
    "# df_properties = fetch_properties(df_addresses)\n",
    "# print(df_properties.head())"
   ]
  },
  {
   "cell_type": "code",
   "execution_count": null,
   "id": "d0350038",
   "metadata": {},
   "outputs": [],
   "source": [
    "# %%\n",
    "# 6. Test skip-trace (requires BULKDATA_API_KEY & properties)\n",
    "# from skip_trace.skip_trace import skip_trace\n",
    "# df_owners = skip_trace(df_properties)\n",
    "# print(df_owners.head())"
   ]
  }
 ],
 "metadata": {
  "kernelspec": {
   "display_name": "storm-leads",
   "language": "python",
   "name": "python3"
  },
  "language_info": {
   "codemirror_mode": {
    "name": "ipython",
    "version": 3
   },
   "file_extension": ".py",
   "mimetype": "text/x-python",
   "name": "python",
   "nbconvert_exporter": "python",
   "pygments_lexer": "ipython3",
   "version": "3.13.5"
  }
 },
 "nbformat": 4,
 "nbformat_minor": 5
}
